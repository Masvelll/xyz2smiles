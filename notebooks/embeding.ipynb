{
 "cells": [
  {
   "cell_type": "code",
   "execution_count": 1,
   "id": "44ff8068",
   "metadata": {},
   "outputs": [
    {
     "name": "stderr",
     "output_type": "stream",
     "text": [
      "/home/user12/.conda/envs/pasha/lib/python3.10/site-packages/tqdm/auto.py:21: TqdmWarning: IProgress not found. Please update jupyter and ipywidgets. See https://ipywidgets.readthedocs.io/en/stable/user_install.html\n",
      "  from .autonotebook import tqdm as notebook_tqdm\n"
     ]
    }
   ],
   "source": [
    "import sys \n",
    "import torch\n",
    "sys.path.insert(1, 'MolT5/baselines')\n",
    "\n",
    "import numpy as np\n",
    "import dataloader\n",
    "import json\n",
    "\n",
    "from tqdm import tqdm\n",
    "from sklearn.model_selection import train_test_split\n",
    "from sklearn.cluster import MiniBatchKMeans\n",
    "from transformers import AutoTokenizer, AutoModelForCausalLM"
   ]
  },
  {
   "cell_type": "code",
   "execution_count": 2,
   "id": "00850ee8",
   "metadata": {},
   "outputs": [],
   "source": [
    "\n",
    "\n",
    "dummy_emb = torch.rand(1000, 20, 20, 64).to('cuda')\n",
    "pairs = dummy_emb"
   ]
  },
  {
   "cell_type": "code",
   "execution_count": 3,
   "id": "f65b0a78",
   "metadata": {},
   "outputs": [],
   "source": [
    "pairs = torch.load('../burov/unimol_embeddings_project/geom_train_pair_embeddings.pt', weights_only=True)"
   ]
  },
  {
   "cell_type": "code",
   "execution_count": 5,
   "id": "8881c372",
   "metadata": {},
   "outputs": [],
   "source": [
    "N = len(pairs)\n",
    "\n",
    "total = N\n",
    "n_chunks = 10\n",
    "chunk_size = total // n_chunks       # → 43647\n",
    "last_chunk_size = total - chunk_size * (n_chunks - 1)  # → остаток в последнем чанке\n"
   ]
  },
  {
   "cell_type": "code",
   "execution_count": 9,
   "id": "9857763c",
   "metadata": {},
   "outputs": [],
   "source": [
    "chunk_size = 43647\n",
    "for i in range(0, N, chunk_size):\n",
    "    chunk = pairs[i:i+chunk_size]\n",
    "    torch.save(chunk, f\"/home/user12/ebeddings/geom_train_pair_embeddings{i//chunk_size:02d}.pt\")"
   ]
  },
  {
   "cell_type": "code",
   "execution_count": 4,
   "id": "0330a0c7",
   "metadata": {},
   "outputs": [],
   "source": [
    "import torch\n",
    "from torch.utils.data import Dataset\n",
    "import glob\n",
    "\n",
    "class ChunkedDataset(Dataset):\n",
    "    def __init__(self, chunk_paths, sizes):\n",
    "        self.chunk_paths = chunk_paths\n",
    "        self.sizes = sizes\n",
    "        self.cumulative = [0]\n",
    "        for s in sizes:\n",
    "            self.cumulative.append(self.cumulative[-1] + s)\n",
    "\n",
    "        self.current_chunk = None\n",
    "        self.current_chunk_idx = -1\n",
    "\n",
    "    def __len__(self):\n",
    "        return self.cumulative[-1]\n",
    "\n",
    "    def __getitem__(self, idx):\n",
    "        # Определяем, к какому чанку принадлежит idx\n",
    "        for i in range(len(self.sizes)):\n",
    "            if self.cumulative[i] <= idx < self.cumulative[i+1]:\n",
    "                local_idx = idx - self.cumulative[i]\n",
    "                if self.current_chunk_idx != i:\n",
    "                    self.current_chunk = torch.load(self.chunk_paths[i])\n",
    "                    self.current_chunk_idx = i\n",
    "                return self.current_chunk[local_idx]\n",
    "\n",
    "        raise IndexError(\"Index out of bounds\")\n",
    "\n",
    "# Пример инициализации\n",
    "chunk_paths = sorted(glob.glob(\"/home/user12/ebeddings/*.pt\"))\n",
    "sizes = [43647] * 9 + [43648]\n",
    "dataset = ChunkedDataset(chunk_paths, sizes)\n"
   ]
  },
  {
   "cell_type": "code",
   "execution_count": 9,
   "id": "4ef70925",
   "metadata": {},
   "outputs": [
    {
     "data": {
      "text/plain": [
       "tensor([[[  1.8952,   4.1560,   6.0471,  ...,  -0.2641,  -0.8994, -11.4943],\n",
       "         [  0.6613,   2.8653,  -1.2060,  ...,   2.6446,  -2.3022,  -2.1334],\n",
       "         [  1.1383,   3.5325,  -0.7498,  ...,   3.1662,  -1.1985,  -2.5246],\n",
       "         ...,\n",
       "         [  1.0921,   4.1979,   2.5114,  ...,   4.0741,   1.4308,  -4.2720],\n",
       "         [  1.1059,   3.2943,   4.2010,  ...,   3.0813,   1.7077,  -6.5720],\n",
       "         [  0.5109,   1.9762,  -1.9728,  ...,   3.1906,  -3.1862,  -1.2246]],\n",
       "\n",
       "        [[  2.8785,   4.1167,   3.8345,  ...,   0.5797,  -0.9223, -10.1936],\n",
       "         [  3.2859,  -1.0462,   5.7178,  ...,  -4.2926, -10.8039, -13.7466],\n",
       "         [  3.7274,  -4.3310,   5.0607,  ...,  -5.4310,  -4.8540, -16.0476],\n",
       "         ...,\n",
       "         [  1.5383,   0.1308,   3.3827,  ...,   3.9154,   0.6600,  -6.5256],\n",
       "         [  1.3351,   3.0836,   4.1798,  ...,   2.4447,   2.9840,  -7.9191],\n",
       "         [  2.8457,  -0.5740,   4.2678,  ...,   2.6725,  -0.9782,  -5.0900]],\n",
       "\n",
       "        [[  2.4847,   2.8307,   4.9040,  ...,   1.0361,  -1.2998, -10.2169],\n",
       "         [  2.5410,  -4.7720,   4.6838,  ...,  -5.7226,  -4.4349, -17.1924],\n",
       "         [  4.2151,  -1.5055,   4.9912,  ...,  -5.1473, -10.0320, -13.2234],\n",
       "         ...,\n",
       "         [  1.2648,   4.0333,   4.3977,  ...,   2.7030,   2.4921,  -9.1798],\n",
       "         [  0.6687,   1.0484,   5.1317,  ...,  -5.3388,  -3.9379, -11.9160],\n",
       "         [  1.7952,   4.1112,   4.8921,  ...,   1.6951,   1.7758,  -9.0156]],\n",
       "\n",
       "        ...,\n",
       "\n",
       "        [[  2.0968,  -1.2648,   5.5454,  ...,  -2.8188,  -6.1240, -11.2212],\n",
       "         [  0.7440,  -0.5252,   3.3023,  ...,   4.0332,   0.2816,  -6.9756],\n",
       "         [  1.4951,   3.5884,   3.8785,  ...,   2.2907,   2.5647,  -8.5127],\n",
       "         ...,\n",
       "         [  3.2539,  -2.5067,   4.1160,  ...,  -5.2356, -10.5181, -13.6337],\n",
       "         [  3.7981,  -1.4064,   1.4189,  ..., -11.0356,  -5.4289, -17.2621],\n",
       "         [  2.9032,  -2.1220,   1.7678,  ...,  -1.6786,  -0.1165,  -2.2315]],\n",
       "\n",
       "        [[  1.7844,  -1.7069,   5.7829,  ...,  -5.1016,  -5.5740, -11.1217],\n",
       "         [  0.7218,   2.8518,   4.0852,  ...,   2.9424,   2.4611,  -8.4774],\n",
       "         [  0.8490,   0.2785,   4.6061,  ...,  -5.4633,  -3.7904, -11.4845],\n",
       "         ...,\n",
       "         [  3.6340,  -1.6446,   1.2911,  ..., -10.5708,  -5.3867, -16.9006],\n",
       "         [  3.8182,  -1.8375,   4.9186,  ...,  -4.5364, -10.0898, -14.1947],\n",
       "         [  2.3645,  -1.4733,   4.2851,  ...,   2.4645,   0.9123,  -7.0820]],\n",
       "\n",
       "        [[  1.7385,   2.7194,   4.0205,  ...,   1.1330,   0.0907, -10.4707],\n",
       "         [  1.2632,  -0.9261,   2.8527,  ...,   3.3757,  -0.4494,  -6.5176],\n",
       "         [  1.7238,   4.6653,   4.4646,  ...,   2.5700,   2.1619,  -9.3292],\n",
       "         ...,\n",
       "         [  2.4198,  -1.6832,   0.8143,  ...,  -1.1433,  -0.1620,  -2.3765],\n",
       "         [  1.6956,  -0.5154,   3.8004,  ...,   3.5685,   0.2596,  -6.6479],\n",
       "         [  2.9504,  -1.0557,   4.7777,  ...,  -5.0425,  -9.4062, -13.2436]]])"
      ]
     },
     "execution_count": 9,
     "metadata": {},
     "output_type": "execute_result"
    }
   ],
   "source": [
    "dataset[4]"
   ]
  },
  {
   "cell_type": "code",
   "execution_count": null,
   "id": "44705c47",
   "metadata": {},
   "outputs": [],
   "source": [
    "torch.save('~/geom_train_pair_embeddings.pt')"
   ]
  },
  {
   "cell_type": "code",
   "execution_count": 7,
   "id": "6aa18728",
   "metadata": {},
   "outputs": [],
   "source": [
    "geom = torch.load('./datasets/geom_train.pt', weights_only=True)"
   ]
  },
  {
   "cell_type": "code",
   "execution_count": 3,
   "id": "e56f6a11",
   "metadata": {},
   "outputs": [],
   "source": [
    "geom = torch.load('./datasets/geom_cut.pt', weights_only=True)"
   ]
  },
  {
   "cell_type": "code",
   "execution_count": null,
   "id": "d6df7179",
   "metadata": {},
   "outputs": [
    {
     "name": "stderr",
     "output_type": "stream",
     "text": [
      "/home/user12/.conda/envs/pasha/lib/python3.10/site-packages/tqdm/auto.py:21: TqdmWarning: IProgress not found. Please update jupyter and ipywidgets. See https://ipywidgets.readthedocs.io/en/stable/user_install.html\n",
      "  from .autonotebook import tqdm as notebook_tqdm\n",
      "100%|██████████| 1000/1000 [00:02<00:00, 409.94it/s]\n"
     ]
    }
   ],
   "source": [
    "\n",
    "\n",
    "k         = 128\n",
    "batchsize = 10_000           # сколько 64-векторов обрабатываем за раз\n",
    "max_pairs = 10_000_000          # всего примеров, на которых «доведём» центры\n",
    "\n",
    "kmeans = MiniBatchKMeans(n_clusters=k,\n",
    "                         batch_size=batchsize,\n",
    "                         init_size=k*3,        # можно побольше для устойчивости\n",
    "                         verbose=0,\n",
    "                         random_state=42)\n",
    "\n",
    "seen = 0\n",
    "for mol in tqdm(pairs):                   # pair_list: list[T(N,N,64)]\n",
    "    vecs = mol.reshape(-1, 64)                # (N²,64)   – в gpu/cpu памяти молекулы\n",
    "    # --- случайно берём не больше batchsize векторов ---\n",
    "    if vecs.size(0) > batchsize:\n",
    "        idx = torch.randperm(vecs.size(0))[:batchsize]\n",
    "        vecs = vecs[idx]\n",
    "\n",
    "    kmeans.partial_fit(vecs.cpu().numpy())    # учим на CPU, по кусочкам\n",
    "    seen += vecs.size(0)\n",
    "    if seen >= max_pairs:                     # хватит примеров – выходим\n",
    "        break\n",
    "\n",
    "centers = torch.tensor(kmeans.cluster_centers_)   # (128,64)  • готово\n",
    "\n",
    "\n",
    "def vec2tok(v: torch.Tensor) -> str:\n",
    "    idx = torch.cdist(v[None], centers).argmin().item()\n",
    "    return f\"<p{idx:03d}>\"\n"
   ]
  },
  {
   "cell_type": "code",
   "execution_count": 8,
   "id": "adc541a5",
   "metadata": {},
   "outputs": [],
   "source": [
    "def vec2tok(v: torch.Tensor) -> str | list[str]:\n",
    "    \"\"\"\n",
    "    v : Tensor (64,)       → '<p042>'\n",
    "        Tensor (M,64)      → ['<p042>', '<p118>', ...] длиной M\n",
    "    \"\"\"\n",
    "    v = v.to(centers)                       # убедимся, что на том же девайсе\n",
    "\n",
    "    if v.ndim == 1:                         # одиночный вектор\n",
    "        idx = torch.cdist(v[None], centers).argmin().item()\n",
    "        return f\"<p{idx:03d}>\"\n",
    "\n",
    "    # батч M×64  → M индексов\n",
    "    idx = torch.cdist(v, centers).argmin(dim=1).tolist()   # List[int] длиной M\n",
    "    return [f\"<p{i:03d}>\" for i in idx]                    # List[str]\n"
   ]
  },
  {
   "cell_type": "code",
   "execution_count": 6,
   "id": "dabcee01",
   "metadata": {},
   "outputs": [
    {
     "name": "stdout",
     "output_type": "stream",
     "text": [
      "['<p061>', '<p047>', '<p094>', '<p102>']\n"
     ]
    }
   ],
   "source": [
    "vecs = torch.randn(40, 64)\n",
    "print(vec2tok(vecs)[:4])\n",
    "# ['<p042>', '<p118>', '<p031>', '<p007>']\n"
   ]
  },
  {
   "cell_type": "code",
   "execution_count": null,
   "id": "527ab548",
   "metadata": {},
   "outputs": [
    {
     "name": "stdout",
     "output_type": "stream",
     "text": [
      "Добавили: 128\n"
     ]
    },
    {
     "data": {
      "text/plain": [
       "Embedding(151774, 2048)"
      ]
     },
     "execution_count": 11,
     "metadata": {},
     "output_type": "execute_result"
    }
   ],
   "source": [
    "model_name = \"Qwen/Qwen1.5-1.8B-Chat\"   # или другая\n",
    "tokenizer  = AutoTokenizer.from_pretrained(model_name, use_fast=True, trust_remote_code=True)\n",
    "model      = AutoModelForCausalLM.from_pretrained(model_name, torch_dtype=torch.float16)\n",
    "\n",
    "# 128 новых «pair-токенов»\n",
    "new_tokens = [f\"<p{i:03d}>\" for i in range(128)]\n",
    "\n",
    "num_added = tokenizer.add_tokens(new_tokens, special_tokens=False)\n",
    "print(\"Добавили:\", num_added)      # должно быть 128\n",
    "model.resize_token_embeddings(len(tokenizer))   # 🔑 расширяем эмбеддинг\n",
    "\n"
   ]
  },
  {
   "cell_type": "code",
   "execution_count": 12,
   "id": "592f74ff",
   "metadata": {},
   "outputs": [
    {
     "data": {
      "text/plain": [
       "('tokenizer_pair128/tokenizer_config.json',\n",
       " 'tokenizer_pair128/special_tokens_map.json',\n",
       " 'tokenizer_pair128/chat_template.jinja',\n",
       " 'tokenizer_pair128/vocab.json',\n",
       " 'tokenizer_pair128/merges.txt',\n",
       " 'tokenizer_pair128/added_tokens.json',\n",
       " 'tokenizer_pair128/tokenizer.json')"
      ]
     },
     "execution_count": 12,
     "metadata": {},
     "output_type": "execute_result"
    }
   ],
   "source": [
    "tokenizer.save_pretrained(\"tokenizer_pair128\")"
   ]
  },
  {
   "cell_type": "code",
   "execution_count": 9,
   "id": "7fac754b",
   "metadata": {},
   "outputs": [
    {
     "name": "stderr",
     "output_type": "stream",
     "text": [
      "  0%|          | 0/10000 [00:00<?, ?it/s]"
     ]
    },
    {
     "name": "stderr",
     "output_type": "stream",
     "text": [
      "100%|██████████| 10000/10000 [00:02<00:00, 3379.26it/s]\n"
     ]
    }
   ],
   "source": [
    "len(geom[0]['positions'])\n",
    "pairs = []\n",
    "for mol in tqdm(geom):\n",
    "    pair = torch.rand(len(mol['positions']), len(mol['positions']), 64)\n",
    "    pair.to('cuda')\n",
    "    pairs.append(pair)"
   ]
  },
  {
   "cell_type": "code",
   "execution_count": 10,
   "id": "586eb18e",
   "metadata": {},
   "outputs": [
    {
     "name": "stderr",
     "output_type": "stream",
     "text": [
      "2535it [01:17, 32.73it/s]                         \n"
     ]
    },
    {
     "ename": "KeyboardInterrupt",
     "evalue": "",
     "output_type": "error",
     "traceback": [
      "\u001b[0;31m---------------------------------------------------------------------------\u001b[0m",
      "\u001b[0;31mKeyboardInterrupt\u001b[0m                         Traceback (most recent call last)",
      "Cell \u001b[0;32mIn[10], line 33\u001b[0m\n\u001b[1;32m     29\u001b[0m lines \u001b[38;5;241m=\u001b[39m [\u001b[38;5;124mf\u001b[39m\u001b[38;5;124m\"\u001b[39m\u001b[38;5;124m[\u001b[39m\u001b[38;5;132;01m{\u001b[39;00mi\u001b[38;5;132;01m}\u001b[39;00m\u001b[38;5;124m,\u001b[39m\u001b[38;5;132;01m{\u001b[39;00mj\u001b[38;5;132;01m}\u001b[39;00m\u001b[38;5;124m]=\u001b[39m\u001b[38;5;132;01m{\u001b[39;00mtok\u001b[38;5;132;01m}\u001b[39;00m\u001b[38;5;124m\"\u001b[39m\n\u001b[1;32m     30\u001b[0m         \u001b[38;5;28;01mfor\u001b[39;00m (i,j),tok \u001b[38;5;129;01min\u001b[39;00m \u001b[38;5;28mzip\u001b[39m(\u001b[38;5;28mzip\u001b[39m(i_idx\u001b[38;5;241m.\u001b[39mtolist(), j_idx\u001b[38;5;241m.\u001b[39mtolist()), toks)]\n\u001b[1;32m     32\u001b[0m \u001b[38;5;66;03m# ---------- метки ------------------------------------------------------\u001b[39;00m\n\u001b[0;32m---> 33\u001b[0m edge2order \u001b[38;5;241m=\u001b[39m {(\u001b[38;5;28mint\u001b[39m(u),\u001b[38;5;28mint\u001b[39m(v)): bo\u001b[38;5;241m.\u001b[39mnonzero(as_tuple\u001b[38;5;241m=\u001b[39m\u001b[38;5;28;01mTrue\u001b[39;00m)[\u001b[38;5;241m0\u001b[39m]\u001b[38;5;241m.\u001b[39mitem()\n\u001b[1;32m     34\u001b[0m             \u001b[38;5;28;01mfor\u001b[39;00m (u,v), bo \u001b[38;5;129;01min\u001b[39;00m \u001b[38;5;28mzip\u001b[39m(mol[\u001b[38;5;124m\"\u001b[39m\u001b[38;5;124medge_index\u001b[39m\u001b[38;5;124m\"\u001b[39m], mol[\u001b[38;5;124m\"\u001b[39m\u001b[38;5;124mbond_orders\u001b[39m\u001b[38;5;124m\"\u001b[39m])}\n\u001b[1;32m     35\u001b[0m edge2order \u001b[38;5;241m|\u001b[39m\u001b[38;5;241m=\u001b[39m {(v,u):o \u001b[38;5;28;01mfor\u001b[39;00m (u,v),o \u001b[38;5;129;01min\u001b[39;00m edge2order\u001b[38;5;241m.\u001b[39mitems()}\n\u001b[1;32m     37\u001b[0m labels \u001b[38;5;241m=\u001b[39m [\u001b[38;5;241m0\u001b[39m \u001b[38;5;28;01mif\u001b[39;00m (i,j) \u001b[38;5;129;01mnot\u001b[39;00m \u001b[38;5;129;01min\u001b[39;00m edge2order \u001b[38;5;28;01melse\u001b[39;00m ORDER2LABEL[edge2order[(i,j)]]\n\u001b[1;32m     38\u001b[0m         \u001b[38;5;28;01mfor\u001b[39;00m i,j \u001b[38;5;129;01min\u001b[39;00m \u001b[38;5;28mzip\u001b[39m(i_idx\u001b[38;5;241m.\u001b[39mtolist(), j_idx\u001b[38;5;241m.\u001b[39mtolist())]\n",
      "Cell \u001b[0;32mIn[10], line 33\u001b[0m, in \u001b[0;36m<dictcomp>\u001b[0;34m(.0)\u001b[0m\n\u001b[1;32m     29\u001b[0m lines \u001b[38;5;241m=\u001b[39m [\u001b[38;5;124mf\u001b[39m\u001b[38;5;124m\"\u001b[39m\u001b[38;5;124m[\u001b[39m\u001b[38;5;132;01m{\u001b[39;00mi\u001b[38;5;132;01m}\u001b[39;00m\u001b[38;5;124m,\u001b[39m\u001b[38;5;132;01m{\u001b[39;00mj\u001b[38;5;132;01m}\u001b[39;00m\u001b[38;5;124m]=\u001b[39m\u001b[38;5;132;01m{\u001b[39;00mtok\u001b[38;5;132;01m}\u001b[39;00m\u001b[38;5;124m\"\u001b[39m\n\u001b[1;32m     30\u001b[0m         \u001b[38;5;28;01mfor\u001b[39;00m (i,j),tok \u001b[38;5;129;01min\u001b[39;00m \u001b[38;5;28mzip\u001b[39m(\u001b[38;5;28mzip\u001b[39m(i_idx\u001b[38;5;241m.\u001b[39mtolist(), j_idx\u001b[38;5;241m.\u001b[39mtolist()), toks)]\n\u001b[1;32m     32\u001b[0m \u001b[38;5;66;03m# ---------- метки ------------------------------------------------------\u001b[39;00m\n\u001b[0;32m---> 33\u001b[0m edge2order \u001b[38;5;241m=\u001b[39m {(\u001b[38;5;28mint\u001b[39m(u),\u001b[38;5;28;43mint\u001b[39;49m\u001b[43m(\u001b[49m\u001b[43mv\u001b[49m\u001b[43m)\u001b[49m): bo\u001b[38;5;241m.\u001b[39mnonzero(as_tuple\u001b[38;5;241m=\u001b[39m\u001b[38;5;28;01mTrue\u001b[39;00m)[\u001b[38;5;241m0\u001b[39m]\u001b[38;5;241m.\u001b[39mitem()\n\u001b[1;32m     34\u001b[0m             \u001b[38;5;28;01mfor\u001b[39;00m (u,v), bo \u001b[38;5;129;01min\u001b[39;00m \u001b[38;5;28mzip\u001b[39m(mol[\u001b[38;5;124m\"\u001b[39m\u001b[38;5;124medge_index\u001b[39m\u001b[38;5;124m\"\u001b[39m], mol[\u001b[38;5;124m\"\u001b[39m\u001b[38;5;124mbond_orders\u001b[39m\u001b[38;5;124m\"\u001b[39m])}\n\u001b[1;32m     35\u001b[0m edge2order \u001b[38;5;241m|\u001b[39m\u001b[38;5;241m=\u001b[39m {(v,u):o \u001b[38;5;28;01mfor\u001b[39;00m (u,v),o \u001b[38;5;129;01min\u001b[39;00m edge2order\u001b[38;5;241m.\u001b[39mitems()}\n\u001b[1;32m     37\u001b[0m labels \u001b[38;5;241m=\u001b[39m [\u001b[38;5;241m0\u001b[39m \u001b[38;5;28;01mif\u001b[39;00m (i,j) \u001b[38;5;129;01mnot\u001b[39;00m \u001b[38;5;129;01min\u001b[39;00m edge2order \u001b[38;5;28;01melse\u001b[39;00m ORDER2LABEL[edge2order[(i,j)]]\n\u001b[1;32m     38\u001b[0m         \u001b[38;5;28;01mfor\u001b[39;00m i,j \u001b[38;5;129;01min\u001b[39;00m \u001b[38;5;28mzip\u001b[39m(i_idx\u001b[38;5;241m.\u001b[39mtolist(), j_idx\u001b[38;5;241m.\u001b[39mtolist())]\n",
      "\u001b[0;31mKeyboardInterrupt\u001b[0m: "
     ]
    }
   ],
   "source": [
    "import json\n",
    "from tqdm import tqdm\n",
    "\n",
    "SYSTEM = (\"You are a chemist. For each atom pair within 2 Å classify the \"\n",
    "          \"bond type. Labels: 0 no-bond, 1 single, 2 double, 3 triple, 4 aromatic. \"\n",
    "          \"Return ONLY JSON list [{\\\"pair\\\":[i,j],\\\"label\\\":n}].\")\n",
    "\n",
    "ORDER2LABEL = {0:1, 1:2, 2:3, 3:4, 4:1, 5:1, 6:1, 7:1, 8:1, 9:1}\n",
    "ALLOWED = ['C', 'O', 'N', 'F', 'S', 'Cl', 'Br', 'I', 'P']\n",
    "\n",
    "dev = 'cuda'\n",
    "centers_gpu = centers.to(dev)\n",
    "with open(\"bond_prompts.jsonl\", \"w\") as fout:\n",
    "    \n",
    "    for mol, pair in tqdm(zip(geom, pairs), total=1000):\n",
    "        xyz   = mol[\"positions\"].to(dev, non_blocking=True)      # (N,3)\n",
    "        types = mol[\"one_hot\"].argmax(-1)                        # остаётся на CPU\n",
    "        pair  = pair.to(dev, non_blocking=True)                  # (N,N,64)\n",
    "\n",
    "        dmat  = torch.cdist(xyz, xyz)                            # GPU, fp32\n",
    "        i_idx, j_idx = (dmat<=2.0).nonzero(as_tuple=True)        # тоже GPU\n",
    "        \n",
    "        if not len(i_idx):  continue\n",
    "\n",
    "        vecs   = pair[i_idx, j_idx]                              # (M,64)_gpu\n",
    "        idx    = torch.cdist(vecs, centers_gpu).argmin(dim=1)        # (M,)_gpu\n",
    "        toks   = [f\"<p{i:03d}>\" for i in idx.tolist()]                            # List[str]  (исправленный!)\n",
    "\n",
    "        lines = [f\"[{i},{j}]={tok}\"\n",
    "                for (i,j),tok in zip(zip(i_idx.tolist(), j_idx.tolist()), toks)]\n",
    "\n",
    "        # ---------- метки ------------------------------------------------------\n",
    "        edge2order = {(int(u),int(v)): bo.nonzero(as_tuple=True)[0].item()\n",
    "                    for (u,v), bo in zip(mol[\"edge_index\"], mol[\"bond_orders\"])}\n",
    "        edge2order |= {(v,u):o for (u,v),o in edge2order.items()}\n",
    "\n",
    "        labels = [0 if (i,j) not in edge2order else ORDER2LABEL[edge2order[(i,j)]]\n",
    "                for i,j in zip(i_idx.tolist(), j_idx.tolist())]\n",
    "\n",
    "        assistant = json.dumps([{\"pair\":[i,j],\"label\":l}\n",
    "                                for (i,j),l in zip(zip(i_idx.tolist(), j_idx.tolist()),\n",
    "                                                labels)],\n",
    "                            separators=(\",\",\":\"))\n",
    "\n",
    "        atom_line = \"Atoms (index→type): \" + \\\n",
    "                    \", \".join(f\"{idx}:{ALLOWED[types[idx]]}\"\n",
    "                            for idx in range(len(types)))\n",
    "\n",
    "        prompt = {\"messages\":[\n",
    "            {\"role\":\"system\",\"content\":SYSTEM},\n",
    "            {\"role\":\"user\",\n",
    "            \"content\":\"Pairs within 2 Å:\\n\" + \"\\n\".join(lines) + \"\\n\\n\" + atom_line},\n",
    "            {\"role\":\"assistant\",\"content\":assistant}\n",
    "        ]}\n",
    "        fout.write(json.dumps(prompt)+\"\\n\")\n",
    "\n"
   ]
  },
  {
   "cell_type": "code",
   "execution_count": 50,
   "id": "d3b68f90",
   "metadata": {},
   "outputs": [
    {
     "name": "stdout",
     "output_type": "stream",
     "text": [
      "{\"messages\": [{\"role\": \"system\", \"content\": \"You are a chemist. For each atom pair within 2 Å classify the bond type. Labels: 0 no-bond, 1 single, 2 double, 3 triple, 4 aromatic. Return ONLY JSON list [{\"pair\":[i,j],\"label\":n}].\"}, {\"role\": \"user\", \"content\": \"Pairs within 2 Å:\n",
      "[0,1]=<p055>\n",
      "[1,0]=<p103>\n",
      "[1,2]=<p072>\n",
      "[2,1]=<p010>\n",
      "[2,3]=<p010>\n",
      "[3,2]=<p072>\n",
      "[3,4]=<p102>\n",
      "[3,5]=<p084>\n",
      "[3,8]=<p080>\n",
      "[4,3]=<p102>\n",
      "[4,5]=<p102>\n",
      "[4,7]=<p076>\n",
      "[5,3]=<p084>\n",
      "[5,4]=<p102>\n",
      "[5,6]=<p016>\n",
      "[6,5]=<p040>\n",
      "[6,7]=<p040>\n",
      "[7,4]=<p076>\n",
      "[7,6]=<p016>\n",
      "[7,8]=<p010>\n",
      "[8,3]=<p080>\n",
      "[8,7]=<p010>\"}, {\"role\": \"assistant\", \"content\": \"[{\"pair\":[0,1],\"label\":0},{\"pair\":[1,0],\"label\":0},{\"pair\":[1,2],\"label\":0},{\"pair\":[2,1],\"label\":0},{\"pair\":[2,3],\"label\":0},{\"pair\":[3,2],\"label\":0},{\"pair\":[3,4],\"label\":0},{\"pair\":[3,5],\"label\":0},{\"pair\":[3,8],\"label\":0},{\"pair\":[4,3],\"label\":0},{\"pair\":[4,5],\"label\":0},{\"pair\":[4,7],\"label\":0},{\"pair\":[5,3],\"label\":0},{\"pair\":[5,4],\"label\":0},{\"pair\":[5,6],\"label\":0},{\"pair\":[6,5],\"label\":0},{\"pair\":[6,7],\"label\":0},{\"pair\":[7,4],\"label\":0},{\"pair\":[7,6],\"label\":0},{\"pair\":[7,8],\"label\":0},{\"pair\":[8,3],\"label\":0},{\"pair\":[8,7],\"label\":0}]\"}]}\n"
     ]
    }
   ],
   "source": [
    "print('{\"messages\": [{\"role\": \"system\", \"content\": \"You are a chemist. For each atom pair within 2 \\u00c5 classify the bond type. Labels: 0 no-bond, 1 single, 2 double, 3 triple, 4 aromatic. Return ONLY JSON list [{\\\"pair\\\":[i,j],\\\"label\\\":n}].\"}, {\"role\": \"user\", \"content\": \"Pairs within 2 \\u00c5:\\n[0,1]=<p055>\\n[1,0]=<p103>\\n[1,2]=<p072>\\n[2,1]=<p010>\\n[2,3]=<p010>\\n[3,2]=<p072>\\n[3,4]=<p102>\\n[3,5]=<p084>\\n[3,8]=<p080>\\n[4,3]=<p102>\\n[4,5]=<p102>\\n[4,7]=<p076>\\n[5,3]=<p084>\\n[5,4]=<p102>\\n[5,6]=<p016>\\n[6,5]=<p040>\\n[6,7]=<p040>\\n[7,4]=<p076>\\n[7,6]=<p016>\\n[7,8]=<p010>\\n[8,3]=<p080>\\n[8,7]=<p010>\"}, {\"role\": \"assistant\", \"content\": \"[{\\\"pair\\\":[0,1],\\\"label\\\":0},{\\\"pair\\\":[1,0],\\\"label\\\":0},{\\\"pair\\\":[1,2],\\\"label\\\":0},{\\\"pair\\\":[2,1],\\\"label\\\":0},{\\\"pair\\\":[2,3],\\\"label\\\":0},{\\\"pair\\\":[3,2],\\\"label\\\":0},{\\\"pair\\\":[3,4],\\\"label\\\":0},{\\\"pair\\\":[3,5],\\\"label\\\":0},{\\\"pair\\\":[3,8],\\\"label\\\":0},{\\\"pair\\\":[4,3],\\\"label\\\":0},{\\\"pair\\\":[4,5],\\\"label\\\":0},{\\\"pair\\\":[4,7],\\\"label\\\":0},{\\\"pair\\\":[5,3],\\\"label\\\":0},{\\\"pair\\\":[5,4],\\\"label\\\":0},{\\\"pair\\\":[5,6],\\\"label\\\":0},{\\\"pair\\\":[6,5],\\\"label\\\":0},{\\\"pair\\\":[6,7],\\\"label\\\":0},{\\\"pair\\\":[7,4],\\\"label\\\":0},{\\\"pair\\\":[7,6],\\\"label\\\":0},{\\\"pair\\\":[7,8],\\\"label\\\":0},{\\\"pair\\\":[8,3],\\\"label\\\":0},{\\\"pair\\\":[8,7],\\\"label\\\":0}]\"}]}')"
   ]
  },
  {
   "cell_type": "code",
   "execution_count": 29,
   "id": "1f5a2bf2",
   "metadata": {},
   "outputs": [
    {
     "data": {
      "text/plain": [
       "'Pairs within 2 Å:\\n[0,1]=<\\n[1,0]=p\\n[1,2]=2\\n[1,5]=2\\n[2,1]=9\\n[2,3]=2\\n[3,2]=>'"
      ]
     },
     "execution_count": 29,
     "metadata": {},
     "output_type": "execute_result"
    }
   ],
   "source": [
    "# убедитесь, что vec2tok() возвращает СТРОКУ целиком\n",
    "def vec2tok(v):\n",
    "    idx = torch.cdist(v.unsqueeze(0), centers).argmin().item()\n",
    "    return f\"<p{idx:03d}>\"           # → '<p042>'\n",
    "\n",
    "# формируем lines без лишних \\n и join\n",
    "lines = [f\"[{int(i)},{int(j)}]={tok}\"      # tok уже готов '<p042>'\n",
    "         for (i, j), tok in zip(zip(i_idx, j_idx), toks)]\n",
    "\n",
    "user_text = \"Pairs within 2 Å:\\n\" + \"\\n\".join(lines)\n",
    "user_text"
   ]
  },
  {
   "cell_type": "code",
   "execution_count": null,
   "id": "92f29451",
   "metadata": {},
   "outputs": [],
   "source": [
    "pairs_ij, vecs = ... # ≤2 Å выборка\\n\n",
    "lines = [f\"[{i},{j}]={emb2tok(vecs[k])}\"\n",
    "for k,(i,j) in enumerate(pairs_ij)]\n",
    "user = \"Pairs within 2 Å:\\\\n\" + \"\\\\n\".join(lines)"
   ]
  },
  {
   "cell_type": "code",
   "execution_count": 2,
   "id": "9fca695f",
   "metadata": {},
   "outputs": [],
   "source": [
    "import random\n",
    "\n",
    "line = random.choice(open(\"bond_prompts.jsonl\").readlines())"
   ]
  },
  {
   "cell_type": "code",
   "execution_count": 5,
   "id": "a0a58112",
   "metadata": {},
   "outputs": [
    {
     "data": {
      "text/plain": [
       "{'messages': [{'role': 'system',\n",
       "   'content': 'You are a chemist. For each atom pair within 2 Å classify the bond type. Labels: 0 no-bond, 1 single, 2 double, 3 triple, 4 aromatic. Return ONLY JSON list [{\"pair\":[i,j],\"label\":n}].'},\n",
       "  {'role': 'user',\n",
       "   'content': 'Pairs within 2 Å:\\n[0,0]=<p079>\\n[0,1]=<p043>\\n[1,0]=<p036>\\n[1,1]=<p117>\\n[1,2]=<p010>\\n[1,3]=<p045>\\n[1,8]=<p106>\\n[2,1]=<p010>\\n[2,2]=<p117>\\n[2,3]=<p010>\\n[2,4]=<p010>\\n[2,5]=<p045>\\n[3,1]=<p045>\\n[3,2]=<p010>\\n[3,3]=<p117>\\n[4,2]=<p010>\\n[4,4]=<p117>\\n[5,2]=<p045>\\n[5,5]=<p025>\\n[5,6]=<p045>\\n[6,5]=<p028>\\n[6,6]=<p117>\\n[6,7]=<p124>\\n[7,6]=<p124>\\n[7,7]=<p117>\\n[8,1]=<p106>\\n[8,8]=<p117>\\n\\nAtoms (index→type): 0:C, 1:C, 2:C, 3:C, 4:O, 5:C, 6:C, 7:C, 8:C'},\n",
       "  {'role': 'assistant',\n",
       "   'content': '[{\"pair\":[0,0],\"label\":0},{\"pair\":[0,1],\"label\":1},{\"pair\":[1,0],\"label\":1},{\"pair\":[1,1],\"label\":0},{\"pair\":[1,2],\"label\":1},{\"pair\":[1,3],\"label\":1},{\"pair\":[1,8],\"label\":1},{\"pair\":[2,1],\"label\":1},{\"pair\":[2,2],\"label\":0},{\"pair\":[2,3],\"label\":1},{\"pair\":[2,4],\"label\":1},{\"pair\":[2,5],\"label\":1},{\"pair\":[3,1],\"label\":1},{\"pair\":[3,2],\"label\":1},{\"pair\":[3,3],\"label\":0},{\"pair\":[4,2],\"label\":1},{\"pair\":[4,4],\"label\":0},{\"pair\":[5,2],\"label\":1},{\"pair\":[5,5],\"label\":0},{\"pair\":[5,6],\"label\":1},{\"pair\":[6,5],\"label\":1},{\"pair\":[6,6],\"label\":0},{\"pair\":[6,7],\"label\":3},{\"pair\":[7,6],\"label\":3},{\"pair\":[7,7],\"label\":0},{\"pair\":[8,1],\"label\":1},{\"pair\":[8,8],\"label\":0}]'}]}"
      ]
     },
     "execution_count": 5,
     "metadata": {},
     "output_type": "execute_result"
    }
   ],
   "source": [
    "json.loads(line)"
   ]
  }
 ],
 "metadata": {
  "kernelspec": {
   "display_name": "pasha",
   "language": "python",
   "name": "python3"
  },
  "language_info": {
   "codemirror_mode": {
    "name": "ipython",
    "version": 3
   },
   "file_extension": ".py",
   "mimetype": "text/x-python",
   "name": "python",
   "nbconvert_exporter": "python",
   "pygments_lexer": "ipython3",
   "version": "3.10.18"
  }
 },
 "nbformat": 4,
 "nbformat_minor": 5
}
